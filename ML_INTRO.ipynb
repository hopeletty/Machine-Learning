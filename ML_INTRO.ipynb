{
  "nbformat": 4,
  "nbformat_minor": 0,
  "metadata": {
    "colab": {
      "provenance": [],
      "authorship_tag": "ABX9TyPx/PGr1IhT9RXMEAFNTdGM",
      "include_colab_link": true
    },
    "kernelspec": {
      "name": "python3",
      "display_name": "Python 3"
    },
    "language_info": {
      "name": "python"
    }
  },
  "cells": [
    {
      "cell_type": "markdown",
      "metadata": {
        "id": "view-in-github",
        "colab_type": "text"
      },
      "source": [
        "<a href=\"https://colab.research.google.com/github/hopeletty/Machine-Learning/blob/main/ML_INTRO.ipynb\" target=\"_parent\"><img src=\"https://colab.research.google.com/assets/colab-badge.svg\" alt=\"Open In Colab\"/></a>"
      ]
    },
    {
      "cell_type": "code",
      "execution_count": null,
      "metadata": {
        "colab": {
          "base_uri": "https://localhost:8080/"
        },
        "id": "IMBn-Dlu5Naw",
        "outputId": "90429893-f66a-4992-ceaf-80d4e9513391"
      },
      "outputs": [
        {
          "output_type": "stream",
          "name": "stdout",
          "text": [
            "['sepal length (cm)', 'sepal width (cm)', 'petal length (cm)', 'petal width (cm)']\n",
            "['setosa' 'versicolor' 'virginica']\n",
            "[5.1 3.5 1.4 0.2]\n",
            "0\n"
          ]
        }
      ],
      "source": [
        "from sklearn.datasets import load_iris #import a dataset\n",
        "iris = load_iris()\n",
        "print (iris.feature_names)   #prints the feature names\n",
        "print (iris.target_names)     #prints the labels\n",
        "print (iris.data[0])\n",
        "print (iris.target[0])"
      ]
    },
    {
      "cell_type": "code",
      "source": [
        "\n",
        "#print the whole data set\n",
        "for i in range(len(iris.target)):\n",
        "  print (\"Example %d: label %s, feature %s\" %(i, iris.target[i], iris.data[i]))"
      ],
      "metadata": {
        "id": "fWeiitgC7fGL"
      },
      "execution_count": null,
      "outputs": []
    },
    {
      "cell_type": "markdown",
      "source": [
        "#Testing Data, Training a Classifier, Prediciting labels for new flowers"
      ],
      "metadata": {
        "id": "vazi0iGT8MHO"
      }
    },
    {
      "cell_type": "code",
      "source": [
        "from tables.tests.test_suite import test\n",
        "import numpy as np\n",
        "from sklearn import tree\n",
        "test_idx = [0,50,100]\n",
        "\n",
        "#training data\n",
        "train_target = np.delete(iris.target, test_idx)\n",
        "train_data = np.delete(iris.data, test_idx, axis=0)\n",
        "\n",
        "#testing data\n",
        "test_target = iris.target[test_idx]\n",
        "test_data = iris.data[test_idx]\n",
        "\n",
        "#create a decision tree classifier and train it on the training data\n",
        "clf = tree.DecisionTreeClassifier()\n",
        "clf.fit(train_data, train_target)\n",
        "\n",
        "print (test_target)\n",
        "print (clf.predict(test_data))"
      ],
      "metadata": {
        "colab": {
          "base_uri": "https://localhost:8080/"
        },
        "id": "KJPCxpah8QSg",
        "outputId": "6d89df9c-4b45-4e7c-8aaf-46a7457e4433"
      },
      "execution_count": null,
      "outputs": [
        {
          "output_type": "stream",
          "name": "stdout",
          "text": [
            "[0 1 2]\n",
            "[0 1 2]\n"
          ]
        }
      ]
    },
    {
      "cell_type": "markdown",
      "source": [
        "#Features\n",
        "-Think about how many features are required.\n",
        "-Avoid useless features because they hurt the classifier's accuracy\n",
        "-Independent features give different types of information\n",
        "-Avoid reduntant features\n",
        "-Features should be easy to understand"
      ],
      "metadata": {
        "id": "_arpul_E-PiU"
      }
    },
    {
      "cell_type": "code",
      "source": [
        "import numpy as np\n",
        "import matplotlib.pyplot as plt\n",
        "\n",
        "greyhounds = 500\n",
        "labs = 500\n",
        "\n",
        "grey_height = 28 + 4 *np.random.randn(greyhounds)\n",
        "lab_height = 24 + 4 * np.random.randn(labs)\n",
        "\n",
        "plt.hist([grey_height, lab_height], stacked=False, color=['r','b'])\n",
        "plt.show()\n"
      ],
      "metadata": {
        "colab": {
          "base_uri": "https://localhost:8080/",
          "height": 265
        },
        "id": "oHrfq9Gr-RyS",
        "outputId": "c3215d3d-4a50-4391-c1b4-cff11f42a5c8"
      },
      "execution_count": null,
      "outputs": [
        {
          "output_type": "display_data",
          "data": {
            "text/plain": [
              "<Figure size 432x288 with 1 Axes>"
            ],
            "image/png": "[encoded data removed]"
          },
          "metadata": {
            "needs_background": "light"
          }
        }
      ]
    },
    {
      "cell_type": "markdown",
      "source": [
        "#Pipeline\n",
        "-use training data to adjust the parameters of a model"
      ],
      "metadata": {
        "id": "enkNTdCPBDhl"
      }
    },
    {
      "cell_type": "code",
      "source": [
        "#import a dataset\n",
        "from sklearn import datasets\n",
        "iris = datasets.load_iris()\n",
        "\n",
        "x = iris.data\n",
        "y = iris.target\n",
        "\n",
        "from sklearn.model_selection import train_test_split \n",
        "\n",
        "x_train, x_test, y_train, y_test = train_test_split(x, y, test_size = .5)\n",
        "\n",
        "#from sklearn import tree\n",
        "#my_classifier = tree.DecisionTreeClassifier()\n",
        "\n",
        "from sklearn.neighbors import KNeighborsClassifier\n",
        "my_classifier = KNeighborsClassifier()\n",
        "\n",
        "my_classifier.fit(x_train, y_train)\n",
        "\n",
        "predictions = my_classifier.predict(x_test)\n",
        "\n",
        "#calculate accuracy\n",
        "from sklearn.metrics import accuracy_score\n",
        "print (accuracy_score(y_test, predictions))\n"
      ],
      "metadata": {
        "colab": {
          "base_uri": "https://localhost:8080/"
        },
        "id": "pJOAVJPUBFax",
        "outputId": "303ac608-68fe-43af-b1da-3afcfa492e22"
      },
      "execution_count": null,
      "outputs": [
        {
          "output_type": "stream",
          "name": "stdout",
          "text": [
            "0.96\n"
          ]
        }
      ]
    }
  ]
}